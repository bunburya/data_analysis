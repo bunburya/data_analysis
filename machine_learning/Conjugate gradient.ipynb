{
 "cells": [
  {
   "cell_type": "code",
   "execution_count": 1,
   "metadata": {},
   "outputs": [],
   "source": [
    "import numpy as np\n",
    "from scipy.optimize import fmin_cg\n",
    "import matplotlib.pyplot as plt\n",
    "%matplotlib inline"
   ]
  },
  {
   "cell_type": "code",
   "execution_count": 2,
   "metadata": {},
   "outputs": [],
   "source": [
    "features = np.insert(2 * np.random.rand(10, 1), 0, 1, axis=1)\n",
    "outputs = 4 + (3*features[:, 1]) + np.random.randn(1, 10)\n",
    "\n",
    "t0 = np.array([0, 0])"
   ]
  },
  {
   "cell_type": "code",
   "execution_count": 3,
   "metadata": {},
   "outputs": [
    {
     "data": {
      "text/plain": [
       "(array([[1.        , 1.63132055],\n",
       "        [1.        , 0.05980552],\n",
       "        [1.        , 0.08511773],\n",
       "        [1.        , 1.75454833],\n",
       "        [1.        , 0.8365055 ],\n",
       "        [1.        , 0.14514167],\n",
       "        [1.        , 0.9118404 ],\n",
       "        [1.        , 1.38050945],\n",
       "        [1.        , 0.59859653],\n",
       "        [1.        , 0.65992485]]),\n",
       " array([[8.91292495, 4.59107498, 5.8212809 , 9.51279394, 4.86933985,\n",
       "         2.09124199, 6.67899932, 9.75404673, 6.5038982 , 6.32561535]]),\n",
       " array([0, 0]))"
      ]
     },
     "execution_count": 3,
     "metadata": {},
     "output_type": "execute_result"
    }
   ],
   "source": [
    "features, outputs, t0"
   ]
  },
  {
   "cell_type": "code",
   "execution_count": 4,
   "metadata": {},
   "outputs": [],
   "source": [
    "def cost_func(theta):\n",
    "    return (((theta.T @ features.T) - outputs)**2)[0].sum()\n",
    "\n",
    "def gradient(theta):\n",
    "    #return (2 * ((theta.T @ features.T) - outputs))[0]\n",
    "    theta = theta.reshape((2, 1))\n",
    "\n",
    "    return (((features @ theta) - outputs.T).T @ features).T.reshape((2,))\n",
    "\n",
    "def h(theta, x1):\n",
    "    return theta.T @ x1.T"
   ]
  },
  {
   "cell_type": "code",
   "execution_count": 5,
   "metadata": {},
   "outputs": [
    {
     "name": "stdout",
     "output_type": "stream",
     "text": [
      "Optimization terminated successfully.\n",
      "         Current function value: 13.710229\n",
      "         Iterations: 17\n",
      "         Function evaluations: 87\n",
      "         Gradient evaluations: 87\n"
     ]
    },
    {
     "data": {
      "text/plain": [
       "array([3.84807139, 3.29647444])"
      ]
     },
     "execution_count": 5,
     "metadata": {},
     "output_type": "execute_result"
    }
   ],
   "source": [
    "t = fmin_cg(cost_func, x0=t0, fprime=gradient)\n",
    "t"
   ]
  },
  {
   "cell_type": "code",
   "execution_count": 6,
   "metadata": {},
   "outputs": [
    {
     "data": {
      "text/plain": [
       "475.0470849541935"
      ]
     },
     "execution_count": 6,
     "metadata": {},
     "output_type": "execute_result"
    }
   ],
   "source": [
    "cost_func(t0)"
   ]
  },
  {
   "cell_type": "code",
   "execution_count": 7,
   "metadata": {},
   "outputs": [
    {
     "data": {
      "text/plain": [
       "array([-65.0612162 , -64.00069289])"
      ]
     },
     "execution_count": 7,
     "metadata": {},
     "output_type": "execute_result"
    }
   ],
   "source": [
    "gradient(t0)"
   ]
  },
  {
   "cell_type": "code",
   "execution_count": 8,
   "metadata": {},
   "outputs": [
    {
     "data": {
      "text/plain": [
       "10.111372829087578"
      ]
     },
     "execution_count": 8,
     "metadata": {},
     "output_type": "execute_result"
    }
   ],
   "source": [
    "h(t, features[0])\n",
    "h(t, np.array([1, 1.9]))"
   ]
  },
  {
   "cell_type": "code",
   "execution_count": 9,
   "metadata": {},
   "outputs": [
    {
     "data": {
      "text/plain": [
       "(0.059805520109693866, 1.7545483339255559)"
      ]
     },
     "execution_count": 9,
     "metadata": {},
     "output_type": "execute_result"
    },
    {
     "data": {
      "image/png": "[encoded data removed]",
      "text/plain": [
       "<Figure size 432x288 with 1 Axes>"
      ]
     },
     "metadata": {
      "needs_background": "light"
     },
     "output_type": "display_data"
    }
   ],
   "source": [
    "x = features[:, 1]\n",
    "pmin = x.min()\n",
    "pmax = x.max()\n",
    "plt.plot(x, outputs[0], 'ro')\n",
    "plt.plot([pmin, pmax], [h(t, np.array([1, pmin])), h(t, np.array([1, pmax]))])\n",
    "pmin, pmax"
   ]
  },
  {
   "cell_type": "code",
   "execution_count": 10,
   "metadata": {},
   "outputs": [
    {
     "data": {
      "text/plain": [
       "array([9.2256779 , 4.04521876, 4.12865979, 9.63189513, 6.60559039,\n",
       "       4.32652721, 6.85392997, 8.39888551, 5.82132953, 6.02349678])"
      ]
     },
     "execution_count": 10,
     "metadata": {},
     "output_type": "execute_result"
    }
   ],
   "source": [
    "h(t, features)"
   ]
  },
  {
   "cell_type": "code",
   "execution_count": null,
   "metadata": {},
   "outputs": [],
   "source": []
  }
 ],
 "metadata": {
  "kernelspec": {
   "display_name": "Python 3",
   "language": "python",
   "name": "python3"
  },
  "language_info": {
   "codemirror_mode": {
    "name": "ipython",
    "version": 3
   },
   "file_extension": ".py",
   "mimetype": "text/x-python",
   "name": "python",
   "nbconvert_exporter": "python",
   "pygments_lexer": "ipython3",
   "version": "3.8.3"
  }
 },
 "nbformat": 4,
 "nbformat_minor": 2
}
