{
 "cells": [
  {
   "cell_type": "code",
   "execution_count": 1,
   "metadata": {},
   "outputs": [],
   "source": [
    "from typing import Callable, Sequence\n",
    "import numpy as np\n",
    "from scipy.special import expit\n",
    "import matplotlib.pyplot as plt\n",
    "%matplotlib inline"
   ]
  },
  {
   "cell_type": "code",
   "execution_count": 2,
   "metadata": {},
   "outputs": [
    {
     "data": {
      "text/plain": [
       "[<matplotlib.lines.Line2D at 0x7fceb021d7f0>]"
      ]
     },
     "execution_count": 2,
     "metadata": {},
     "output_type": "execute_result"
    },
    {
     "data": {
      "image/png": "[encoded data removed]",
      "text/plain": [
       "<Figure size 432x288 with 1 Axes>"
      ]
     },
     "metadata": {
      "needs_background": "light"
     },
     "output_type": "display_data"
    }
   ],
   "source": [
    "x = np.linspace(-4, 4)\n",
    "y = expit(x)\n",
    "plt.plot(x, y)\n",
    "plt.plot((-4, 0, 0), (0.5, 0.5, 0))"
   ]
  },
  {
   "cell_type": "code",
   "execution_count": 3,
   "metadata": {},
   "outputs": [],
   "source": [
    "from regression import BaseRegression"
   ]
  },
  {
   "cell_type": "code",
   "execution_count": 4,
   "metadata": {},
   "outputs": [],
   "source": [
    "class LogisticRegression(BaseRegression):\n",
    "    \n",
    "    def get_hypothesis(self, theta: np.ndarray) -> Callable[[np.ndarray], np.ndarray]:\n",
    "        def h(x: np.ndarray) -> np.ndarray:\n",
    "            return expit(theta.T @ x.T)\n",
    "        return h\n",
    "\n",
    "    def cost_function(self, h: Callable[[np.ndarray], np.ndarray]) -> np.ndarray:\n",
    "        h_x = h(self.features)\n",
    "        return (-(self.outputs * np.log(h_x).T) - ((1 - self.outputs) * np.log(1 - h_x).T)).sum()\n",
    "    \n",
    "    def delta(self, theta: np.ndarray) -> np.ndarray:\n",
    "        return self.features.T @ (expit(self.features @ theta) - self.outputs)\n",
    "    "
   ]
  },
  {
   "cell_type": "code",
   "execution_count": 5,
   "metadata": {},
   "outputs": [],
   "source": [
    "x = np.random.rand(100, 1) * 10\n",
    "y = np.empty((100, 1))\n",
    "for i, _x in enumerate(x):\n",
    "    if _x < 4:\n",
    "        y[i] = 1\n",
    "    else:\n",
    "        y[i] = 0\n",
    "test = LogisticRegression(x, y, scale_features=False)\n",
    "#theta, h, num_steps = test.gradient_descent(a=0.05, iterations=500)\n",
    "theta, h, num_steps = test.gradient_descent(a=0.1, convergence_threshold=0.001)"
   ]
  },
  {
   "cell_type": "code",
   "execution_count": null,
   "metadata": {},
   "outputs": [],
   "source": []
  },
  {
   "cell_type": "code",
   "execution_count": 6,
   "metadata": {
    "scrolled": true
   },
   "outputs": [
    {
     "data": {
      "text/plain": [
       "[<matplotlib.lines.Line2D at 0x7fceb0045190>]"
      ]
     },
     "execution_count": 6,
     "metadata": {},
     "output_type": "execute_result"
    }
   ],
   "source": [
    "for _x, _y in zip(test.features, y):\n",
    "    plt.plot(_x[1], _y, 'bo')\n",
    "test_range = np.linspace(0, 10, 50)\n",
    "plt.plot(list(test_range), [test.get_prediction(i) for i in test_range])"
   ]
  },
  {
   "cell_type": "code",
   "execution_count": 7,
   "metadata": {},
   "outputs": [
    {
     "data": {
      "image/png": "[encoded data removed]",
      "text/plain": [
       "<Figure size 432x288 with 1 Axes>"
      ]
     },
     "metadata": {
      "needs_background": "light"
     },
     "output_type": "display_data"
    }
   ],
   "source": [
    "#for i in np.linspace(0, 10, 100):\n",
    "#    plt.plot(i, h(np.array([1, i])), 'ro')\n"
   ]
  },
  {
   "cell_type": "code",
   "execution_count": 8,
   "metadata": {},
   "outputs": [],
   "source": [
    "class OneVsAll:\n",
    "    \n",
    "    def __init__(self, features: Sequence[Sequence[float]], outputs: Sequence[int]):\n",
    "        self.features = features\n",
    "        self.outputs = outputs\n",
    "        self.output_classes = np.unique(outputs)\n",
    "        print('output classes: {}.'.format(self.output_classes))\n",
    "        self.models = {}\n",
    "        for oc in self.output_classes:\n",
    "            oc = int(oc)\n",
    "            modified_outputs = outputs.copy()\n",
    "            for i, y in enumerate(outputs):\n",
    "                if y == oc:\n",
    "                    modified_outputs[i] = 1\n",
    "                else:\n",
    "                    modified_outputs[i] = 0\n",
    "            model = LogisticRegression(features, modified_outputs, scale_features = False)\n",
    "            model.gradient_descent(0.1, convergence_threshold = 0.001)\n",
    "            self.models[oc] = model\n",
    "    \n",
    "    def get_prediction(self, features: Sequence[float], add_x0: bool = True) -> int:\n",
    "        predictions = {oc: self.models[oc].get_prediction(features, add_x0=add_x0) for oc in self.output_classes}\n",
    "        return max(predictions, key=lambda k: predictions[k])\n",
    "        #return predictions\n",
    "        \n",
    "        "
   ]
  },
  {
   "cell_type": "code",
   "execution_count": 9,
   "metadata": {},
   "outputs": [],
   "source": [
    "x1 = np.random.rand(100, 1) * 10\n",
    "y1 = np.empty((100, 1))\n",
    "for i, _x in enumerate(x1):\n",
    "    if _x < 2:\n",
    "        y1[i] = 0\n",
    "    elif _x < 6:\n",
    "        y1[i] = 1\n",
    "    else:\n",
    "        y1[i] = 2"
   ]
  },
  {
   "cell_type": "code",
   "execution_count": 10,
   "metadata": {},
   "outputs": [
    {
     "name": "stdout",
     "output_type": "stream",
     "text": [
      "output classes: [0. 1. 2.].\n"
     ]
    }
   ],
   "source": [
    "test = OneVsAll(x1, y1)"
   ]
  },
  {
   "cell_type": "code",
   "execution_count": 11,
   "metadata": {},
   "outputs": [
    {
     "name": "stdout",
     "output_type": "stream",
     "text": [
      "0 0.0\n",
      "1 0.0\n",
      "2 1.0\n",
      "3 1.0\n",
      "4 1.0\n",
      "5 1.0\n",
      "6 2.0\n",
      "7 2.0\n",
      "8 2.0\n",
      "9 2.0\n"
     ]
    }
   ],
   "source": [
    "for i in range(10):\n",
    "    print(i, test.get_prediction(i))"
   ]
  },
  {
   "cell_type": "code",
   "execution_count": null,
   "metadata": {},
   "outputs": [],
   "source": []
  }
 ],
 "metadata": {
  "kernelspec": {
   "display_name": "Python 3",
   "language": "python",
   "name": "python3"
  },
  "language_info": {
   "codemirror_mode": {
    "name": "ipython",
    "version": 3
   },
   "file_extension": ".py",
   "mimetype": "text/x-python",
   "name": "python",
   "nbconvert_exporter": "python",
   "pygments_lexer": "ipython3",
   "version": "3.8.3"
  }
 },
 "nbformat": 4,
 "nbformat_minor": 2
}
