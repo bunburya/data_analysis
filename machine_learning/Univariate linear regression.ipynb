{
 "cells": [
  {
   "cell_type": "code",
   "execution_count": 1,
   "metadata": {},
   "outputs": [],
   "source": [
    "from typing import Callable, Sequence, Tuple\n",
    "import math\n",
    "import numpy as np\n",
    "import matplotlib.pyplot as plt"
   ]
  },
  {
   "cell_type": "code",
   "execution_count": 2,
   "metadata": {},
   "outputs": [],
   "source": [
    "class NonConvergenceError(Exception): pass"
   ]
  },
  {
   "cell_type": "code",
   "execution_count": 5,
   "metadata": {},
   "outputs": [],
   "source": [
    "class LinearRegression:\n",
    "\n",
    "    def __init__(self, data: Sequence[Tuple[float, float]]):\n",
    "        self.data = data\n",
    "        self.m = len(data)\n",
    "    \n",
    "    def get_hypothesis(self, t0: float, t1: float) -> Callable[[float], float]:\n",
    "        def h(x: float) -> float:\n",
    "            return t0 + (t1 * x)\n",
    "        return h\n",
    "\n",
    "    def cost_function(self, h: Callable[[float], float]) -> float:\n",
    "        cost = 0.0\n",
    "        for x, y in self.data:\n",
    "            cost += (h(x) - y)**2\n",
    "        cost /= (2 * self.m)\n",
    "        return cost\n",
    "    \n",
    "    def gradient_descent(self, a: float, t0_start: float = 0, t1_start: float = 0) -> Tuple[float, float, Callable[[float], float]]:\n",
    "        t0 = t0_start\n",
    "        t1 = t1_start\n",
    "        TINY = 1e-4\n",
    "        step = np.inf\n",
    "        num_steps = 0\n",
    "        while step > TINY:\n",
    "            num_steps += 1\n",
    "            h = self.get_hypothesis(t0, t1)\n",
    "            t0_deriv = sum([h(x) - y for x, y in self.data]) / self.m\n",
    "            t1_deriv = sum([(h(x) - y) * x for x, y in self.data]) / self.m\n",
    "            step0 = a * t0_deriv\n",
    "            step1 = a * t1_deriv\n",
    "            t0 -= step0\n",
    "            t1 -= step1\n",
    "            new_step = math.sqrt((step0 ** 2) + (step1 ** 2))\n",
    "            if new_step > step:\n",
    "                raise NonConvergenceError(f'Failed to converge: latest step ({new_step}) is greater than previous step ({step}).')\n",
    "            elif new_step < TINY:\n",
    "                return t0, t1, h, num_steps\n",
    "            step = new_step\n",
    "            \n"
   ]
  },
  {
   "cell_type": "code",
   "execution_count": 6,
   "metadata": {},
   "outputs": [
    {
     "name": "stdout",
     "output_type": "stream",
     "text": [
      "-1.1631168596637835 3.744244282250957\n"
     ]
    }
   ],
   "source": [
    "data = [(1, 3), (2, 7.1), (3, 7.8), (4, 14.1), (5, 18.3)]\n",
    "test = LinearRegression(data)\n",
    "t0, t1, h, num_steps = test.gradient_descent(a=0.01)\n",
    "print(t0, t1)"
   ]
  },
  {
   "cell_type": "code",
   "execution_count": 7,
   "metadata": {},
   "outputs": [
    {
     "data": {
      "image/png": "[encoded data removed]",
      "text/plain": [
       "<Figure size 432x288 with 1 Axes>"
      ]
     },
     "metadata": {
      "needs_background": "light"
     },
     "output_type": "display_data"
    }
   ],
   "source": [
    "plt.plot([0, 6], [h(0), h(6)])\n",
    "for x, y in data:\n",
    "    plt.plot(x, y, 'bo')"
   ]
  },
  {
   "cell_type": "code",
   "execution_count": null,
   "metadata": {},
   "outputs": [],
   "source": [
    "num_steps"
   ]
  },
  {
   "cell_type": "code",
   "execution_count": 8,
   "metadata": {},
   "outputs": [
    {
     "data": {
      "text/plain": [
       "0.6558954743889626"
      ]
     },
     "execution_count": 8,
     "metadata": {},
     "output_type": "execute_result"
    }
   ],
   "source": [
    "test.cost_function(h)"
   ]
  },
  {
   "cell_type": "code",
   "execution_count": null,
   "metadata": {},
   "outputs": [],
   "source": [
    "test.cost_function(test.get_hypothesis(t0-0.1, t1-0.1))"
   ]
  },
  {
   "cell_type": "code",
   "execution_count": null,
   "metadata": {},
   "outputs": [],
   "source": [
    "data2 = [(3, 2), (1, 2), (0, 1), (4, 3)]\n",
    "test2 = LinearRegression(data2)\n",
    "test2.cost_function(test2.get_hypothesis(0, 1))\n",
    "t0, t1, h, num_steps = test2.gradient_descent(a=0.01)"
   ]
  },
  {
   "cell_type": "code",
   "execution_count": null,
   "metadata": {},
   "outputs": [],
   "source": [
    "plt.plot([-1, 6], [h(-1), h(5)])\n",
    "for x, y in data2:\n",
    "    plt.plot(x, y, 'bo')"
   ]
  },
  {
   "cell_type": "code",
   "execution_count": null,
   "metadata": {},
   "outputs": [],
   "source": []
  }
 ],
 "metadata": {
  "kernelspec": {
   "display_name": "Python 3",
   "language": "python",
   "name": "python3"
  },
  "language_info": {
   "codemirror_mode": {
    "name": "ipython",
    "version": 3
   },
   "file_extension": ".py",
   "mimetype": "text/x-python",
   "name": "python",
   "nbconvert_exporter": "python",
   "pygments_lexer": "ipython3",
   "version": "3.8.3"
  }
 },
 "nbformat": 4,
 "nbformat_minor": 2
}
