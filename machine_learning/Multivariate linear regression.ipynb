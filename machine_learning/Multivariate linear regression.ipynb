{
 "cells": [
  {
   "cell_type": "code",
   "execution_count": 1,
   "metadata": {},
   "outputs": [],
   "source": [
    "from typing import Callable, Sequence, Tuple, Union\n",
    "import math\n",
    "import numpy as np\n",
    "import matplotlib.pyplot as plt"
   ]
  },
  {
   "cell_type": "code",
   "execution_count": 2,
   "metadata": {},
   "outputs": [],
   "source": [
    "from regression import BaseRegression"
   ]
  },
  {
   "cell_type": "code",
   "execution_count": 3,
   "metadata": {},
   "outputs": [],
   "source": [
    "class LinearRegression(BaseRegression):\n",
    "    \n",
    "    def get_hypothesis(self, theta: np.ndarray) -> Callable[[np.ndarray], float]:\n",
    "        def h(x: np.ndarray) -> float:\n",
    "            # Technically x.T does nothing here, and @ computes the inner product of the vectors rather than\n",
    "            # doing matrix multiplication.\n",
    "            #print('theta', theta)\n",
    "            #print('x', x)\n",
    "            return theta.T @ x.T\n",
    "        return h\n",
    "\n",
    "    def cost_function(self, h: Callable[[np.ndarray], float]) -> float:\n",
    "        cost = 0.0\n",
    "        for x, y in self.data:\n",
    "            cost += (h(x) - y)**2\n",
    "        cost /= (2 * self.m)\n",
    "        return cost\n",
    "    \n",
    "    def delta(self, theta: np.ndarray) -> np.ndarray:\n",
    "        return (((self.features @ theta) - self.outputs).T @ self.features).T;\n",
    "    \n",
    "    def normal_equation(self) -> np.ndarray:\n",
    "        return np.linalg.inv(self.features.T @ self.features) @ self.features.T @ self.outputs"
   ]
  },
  {
   "cell_type": "code",
   "execution_count": 14,
   "metadata": {
    "scrolled": true
   },
   "outputs": [
    {
     "data": {
      "text/plain": [
       "(array([[7.30769338],\n",
       "        [1.38908658]]),\n",
       " array([[4.52671524],\n",
       "        [2.32138906]]),\n",
       " 1252,\n",
       " 4511)"
      ]
     },
     "execution_count": 14,
     "metadata": {},
     "output_type": "execute_result"
    }
   ],
   "source": [
    "features = 2 * np.random.rand(10, 1)\n",
    "outputs = 4 + 3*features + np.random.randn(10, 1)\n",
    "\n",
    "#features, outputs = ([1], [2], [3], [4], [5]), (3, 7.1, 7.8, 14.1, 18.3)\n",
    "test1 = LinearRegression(features, outputs, scale_features=True)\n",
    "theta1, h1, num_steps1 = test1.gradient_descent(a=0.005)\n",
    "test2 = LinearRegression(features, outputs, scale_features=False)\n",
    "theta2, h2, num_steps2 = test2.gradient_descent(a=0.005, convergence_threshold = 1e-6)\n",
    "theta1, theta2, num_steps1, num_steps2"
   ]
  },
  {
   "cell_type": "code",
   "execution_count": 15,
   "metadata": {},
   "outputs": [
    {
     "data": {
      "text/plain": [
       "[<matplotlib.lines.Line2D at 0x7f122389efa0>]"
      ]
     },
     "execution_count": 15,
     "metadata": {},
     "output_type": "execute_result"
    },
    {
     "data": {
      "image/png": "[encoded data removed]",
      "text/plain": [
       "<Figure size 432x288 with 1 Axes>"
      ]
     },
     "metadata": {
      "needs_background": "light"
     },
     "output_type": "display_data"
    }
   ],
   "source": [
    "plt.plot([-3, 6], [h1(np.array([1, -3])), h1(np.array([1, 6]))])\n",
    "plt.plot([-3, 6], [h2(np.array([1, -3])), h2(np.array([1, 6]))])\n",
    "for x, y in zip(test1.features, outputs):\n",
    "    plt.plot(x[1], y, 'bo')\n",
    "for x, y in zip(test2.features, outputs):\n",
    "    plt.plot(x[1], y, 'rx')\n",
    "\n",
    "x = 2.5\n",
    "y1 = test1.get_prediction([x])\n",
    "y2 = test2.get_prediction([x])\n",
    "plt.plot(x, y1, 'bx')\n",
    "#plt.plot(x, y2, 'ro')"
   ]
  },
  {
   "cell_type": "code",
   "execution_count": 16,
   "metadata": {},
   "outputs": [
    {
     "data": {
      "image/png": "[encoded data removed]",
      "text/plain": [
       "<Figure size 432x288 with 1 Axes>"
      ]
     },
     "metadata": {
      "needs_background": "light"
     },
     "output_type": "display_data"
    }
   ],
   "source": [
    "for x in np.linspace(-2, 10):\n",
    "    h = test2.get_hypothesis(np.array([1, x]))\n",
    "    plt.plot(x, test2.cost_function(h), 'bo')\n"
   ]
  },
  {
   "cell_type": "code",
   "execution_count": 7,
   "metadata": {},
   "outputs": [
    {
     "data": {
      "image/png": "[encoded data removed]",
      "text/plain": [
       "<Figure size 432x288 with 1 Axes>"
      ]
     },
     "metadata": {
      "needs_background": "light"
     },
     "output_type": "display_data"
    }
   ],
   "source": [
    "for i in range(1, 400, 10):\n",
    "    t = LinearRegression(features, outputs, scale_features=False)\n",
    "    theta, h, num_steps = test1.gradient_descent(a=0.001, iterations=i)\n",
    "    plt.plot(i, t.cost_function(h), 'bo')"
   ]
  },
  {
   "cell_type": "code",
   "execution_count": 8,
   "metadata": {},
   "outputs": [
    {
     "data": {
      "text/plain": [
       "array([[5.28805435],\n",
       "       [1.11739102]])"
      ]
     },
     "execution_count": 8,
     "metadata": {},
     "output_type": "execute_result"
    }
   ],
   "source": [
    "test2.normal_equation()"
   ]
  },
  {
   "cell_type": "code",
   "execution_count": 9,
   "metadata": {},
   "outputs": [
    {
     "data": {
      "text/plain": [
       "array([[-61.88386748],\n",
       "       [-51.89338729]])"
      ]
     },
     "execution_count": 9,
     "metadata": {},
     "output_type": "execute_result"
    }
   ],
   "source": [
    "test2.delta(np.array([[0], [0]]))"
   ]
  },
  {
   "cell_type": "code",
   "execution_count": 10,
   "metadata": {},
   "outputs": [
    {
     "data": {
      "text/plain": [
       "array([[1.        , 1.11422983],\n",
       "       [1.        , 1.48793571],\n",
       "       [1.        , 0.62247261],\n",
       "       [1.        , 1.28030159],\n",
       "       [1.        , 0.22548846],\n",
       "       [1.        , 0.4259621 ],\n",
       "       [1.        , 0.66947882],\n",
       "       [1.        , 1.22896923],\n",
       "       [1.        , 0.24237788],\n",
       "       [1.        , 0.76023524]])"
      ]
     },
     "execution_count": 10,
     "metadata": {},
     "output_type": "execute_result"
    }
   ],
   "source": [
    "test2.features"
   ]
  },
  {
   "cell_type": "code",
   "execution_count": 11,
   "metadata": {},
   "outputs": [
    {
     "data": {
      "text/plain": [
       "array([[5.43120034],\n",
       "       [7.94558872],\n",
       "       [5.70608434],\n",
       "       [7.94929366],\n",
       "       [5.84046648],\n",
       "       [4.22277777],\n",
       "       [6.77481103],\n",
       "       [5.54536701],\n",
       "       [7.05854853],\n",
       "       [5.40972959]])"
      ]
     },
     "execution_count": 11,
     "metadata": {},
     "output_type": "execute_result"
    }
   ],
   "source": [
    "test2.outputs"
   ]
  },
  {
   "cell_type": "code",
   "execution_count": null,
   "metadata": {},
   "outputs": [],
   "source": []
  }
 ],
 "metadata": {
  "kernelspec": {
   "display_name": "Python 3",
   "language": "python",
   "name": "python3"
  },
  "language_info": {
   "codemirror_mode": {
    "name": "ipython",
    "version": 3
   },
   "file_extension": ".py",
   "mimetype": "text/x-python",
   "name": "python",
   "nbconvert_exporter": "python",
   "pygments_lexer": "ipython3",
   "version": "3.8.3"
  }
 },
 "nbformat": 4,
 "nbformat_minor": 2
}
